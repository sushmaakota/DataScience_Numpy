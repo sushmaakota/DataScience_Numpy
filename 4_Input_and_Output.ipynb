{
 "cells": [
  {
   "cell_type": "markdown",
   "metadata": {},
   "source": [
    "# Input and Output"
   ]
  },
  {
   "cell_type": "code",
   "execution_count": null,
   "metadata": {},
   "outputs": [],
   "source": [
    "#02-03-2023                                                             21b01a1288"
   ]
  },
  {
   "cell_type": "code",
   "execution_count": 42,
   "metadata": {},
   "outputs": [],
   "source": [
    "from __future__ import print_function\n",
    "import numpy as np"
   ]
  },
  {
   "cell_type": "code",
   "execution_count": 43,
   "metadata": {},
   "outputs": [
    {
     "data": {
      "text/plain": [
       "'1.21.5'"
      ]
     },
     "execution_count": 43,
     "metadata": {},
     "output_type": "execute_result"
    }
   ],
   "source": [
    "np.__version__"
   ]
  },
  {
   "cell_type": "code",
   "execution_count": 44,
   "metadata": {},
   "outputs": [
    {
     "name": "stdout",
     "output_type": "stream",
     "text": [
      "2023-02-03\n"
     ]
    }
   ],
   "source": [
    "from datetime import date\n",
    "print(date.today())"
   ]
  },
  {
   "cell_type": "markdown",
   "metadata": {},
   "source": [
    "## NumPy binary files (NPY, NPZ)"
   ]
  },
  {
   "cell_type": "markdown",
   "metadata": {},
   "source": [
    "Q1. Save x into `temp.npy` and load it."
   ]
  },
  {
   "cell_type": "code",
   "execution_count": 45,
   "metadata": {},
   "outputs": [
    {
     "name": "stdout",
     "output_type": "stream",
     "text": [
      "True\n"
     ]
    }
   ],
   "source": [
    "x = np.arange(10)\n",
    "np.save('temp.npy', x)\n",
    "\n",
    "# Check if there exists the 'temp.npy' file.\n",
    "import os\n",
    "if os.path.exists('temp.npy'):\n",
    "    x2 = np.load('temp.npy')\n",
    "    print(np.array_equal(x, x2))\n"
   ]
  },
  {
   "cell_type": "markdown",
   "metadata": {},
   "source": [
    "Q2. Save x and y into a single file 'temp.npz' and load it."
   ]
  },
  {
   "cell_type": "code",
   "execution_count": 46,
   "metadata": {},
   "outputs": [
    {
     "name": "stdout",
     "output_type": "stream",
     "text": [
      "True\n",
      "True\n"
     ]
    }
   ],
   "source": [
    "x = np.arange(10)\n",
    "y = np.arange(11, 20)\n",
    "np.savez('temp.npz', x=x, y=y)\n",
    "with np.load('temp.npz')  as data:\n",
    "    x2 = data['x']\n",
    "    y2 = data['y']\n",
    "    print(np.array_equal(x, x2))\n",
    "    print(np.array_equal(y, y2))\n"
   ]
  },
  {
   "cell_type": "markdown",
   "metadata": {},
   "source": [
    "## Text files"
   ]
  },
  {
   "cell_type": "markdown",
   "metadata": {},
   "source": [
    "Q3. Save x to 'temp.txt' in string format and load it."
   ]
  },
  {
   "cell_type": "code",
   "execution_count": 47,
   "metadata": {},
   "outputs": [
    {
     "data": {
      "text/plain": [
       "array([[0., 1., 2., 3., 4.],\n",
       "       [5., 6., 7., 8., 9.]])"
      ]
     },
     "execution_count": 47,
     "metadata": {},
     "output_type": "execute_result"
    }
   ],
   "source": [
    "x = np.arange(10).reshape(2, 5)\n",
    "header = 'num1 num2 num3 num4 num5'\n",
    "np.savetxt('temp.txt', x, fmt=\"%d\", header=header) \n",
    "np.loadtxt('temp.txt')"
   ]
  },
  {
   "cell_type": "markdown",
   "metadata": {},
   "source": [
    "Q4. Save `x`, `y`, and `z` to 'temp.txt' in string format line by line, then load it."
   ]
  },
  {
   "cell_type": "code",
   "execution_count": 48,
   "metadata": {},
   "outputs": [
    {
     "name": "stdout",
     "output_type": "stream",
     "text": [
      "None\n",
      "[[ 0.  1.  2.  3.  4.  5.  6.  7.  8.  9.]\n",
      " [11. 12. 13. 14. 15. 16. 17. 18. 19. 20.]\n",
      " [22. 23. 24. 25. 26. 27. 28. 29. 30. 31.]]\n"
     ]
    }
   ],
   "source": [
    "x = np.arange(10)\n",
    "y = np.arange(11, 21)\n",
    "z = np.arange(22, 32)\n",
    "print(np.savetxt('temp.txt', (x, y, z), fmt='%d'))\n",
    "print(np.loadtxt('temp.txt'))"
   ]
  },
  {
   "cell_type": "markdown",
   "metadata": {},
   "source": [
    "Q5. Convert `x` into bytes, and load it as array."
   ]
  },
  {
   "cell_type": "code",
   "execution_count": 49,
   "metadata": {},
   "outputs": [
    {
     "name": "stdout",
     "output_type": "stream",
     "text": [
      "True\n"
     ]
    }
   ],
   "source": [
    "x = np.array([1, 2, 3, 4])\n",
    "x_bytes = x.tobytes()\n",
    "x2 = np.frombuffer(x_bytes,dtype=x.dtype)\n",
    "print(np.array_equal(x, x2))\n"
   ]
  },
  {
   "cell_type": "markdown",
   "metadata": {},
   "source": [
    "Q6. Convert `a` into an ndarray and then convert it into a list again."
   ]
  },
  {
   "cell_type": "code",
   "execution_count": 50,
   "metadata": {},
   "outputs": [
    {
     "name": "stdout",
     "output_type": "stream",
     "text": [
      "True\n"
     ]
    }
   ],
   "source": [
    "a = [[1, 2], [3, 4]]\n",
    "x = np.array(a)\n",
    "a2 = x.tolist()\n",
    "print(a == a2)"
   ]
  },
  {
   "cell_type": "markdown",
   "metadata": {},
   "source": [
    "## String formatting¶"
   ]
  },
  {
   "cell_type": "markdown",
   "metadata": {},
   "source": [
    "Q7. Convert `x` to a string, and revert it."
   ]
  },
  {
   "cell_type": "code",
   "execution_count": 51,
   "metadata": {},
   "outputs": [
    {
     "name": "stdout",
     "output_type": "stream",
     "text": [
      "[[0 1 2 3 4]\n",
      " [5 6 7 8 9]] \n",
      " <class 'str'>\n"
     ]
    }
   ],
   "source": [
    "x = np.arange(10).reshape(2,5)\n",
    "x_str =  np.array_str(x)\n",
    "print(x_str, \"\\n\", type(x_str))\n",
    "x_str = x_str.replace(\"[\", \"\") # [] must be stripped\n",
    "x_str = x_str.replace(\"]\", \"\")\n",
    "x2 = np.fromstring(x_str, dtype=x.dtype, sep=\" \").reshape(x.shape)\n",
    "assert np.array_equal(x, x2)\n",
    "\n"
   ]
  },
  {
   "cell_type": "markdown",
   "metadata": {},
   "source": [
    "## Text formatting options"
   ]
  },
  {
   "cell_type": "markdown",
   "metadata": {},
   "source": [
    "Q8. Print `x` such that all elements are displayed with precision=1, no suppress."
   ]
  },
  {
   "cell_type": "code",
   "execution_count": 52,
   "metadata": {},
   "outputs": [
    {
     "name": "stdout",
     "output_type": "stream",
     "text": [
      "[[0.9 0.4 0.1 0.1 0.2 1.  0.9 0.1 0.5 0.  0.5 0.1 0.4 0.8 0.2 0.1 0.6 0.1\n",
      "  0.7 0.7 0.6 0.8 0.7 0.4 0.4 0.1 0.  0.7 0.2 0.1 0.3 0.3 0.7 0.6 0.8 1.\n",
      "  0.2 0.8 0.9 1.  0.7 0.5 1.  1.  0.3 0.2 0.4 1.  0.5 0.8 0.8 0.3 0.9 0.3\n",
      "  0.7 0.9 0.2 0.8 0.1 0.8 0.7 0.1 1.  0.4 0.  0.7 0.6 0.8 0.3 0.2 0.7 0.1\n",
      "  0.8 0.7 0.3 0.8 0.8 0.5 1.  0.8 0.8 0.7 0.4 0.8 0.6 1.  0.8 1.  0.  0.3\n",
      "  1.  0.5 0.8 0.1 0.2 1.  0.7 0.8 0.2 0.7]\n",
      " [0.4 0.8 0.7 0.6 0.  0.5 0.4 0.2 0.7 0.3 1.  0.6 0.1 1.  0.2 0.7 0.2 0.\n",
      "  0.8 0.8 0.3 0.8 0.8 0.7 0.2 0.9 0.7 0.4 0.3 1.  0.6 0.5 0.7 0.9 0.4 0.1\n",
      "  0.5 0.8 0.5 0.4 1.  0.1 0.2 0.2 0.1 0.8 0.1 0.8 0.8 0.2 0.3 0.9 0.5 0.8\n",
      "  0.4 0.4 0.  0.5 0.8 0.  0.3 0.7 0.  0.2 0.6 0.  0.5 0.3 0.3 0.4 0.3 0.2\n",
      "  0.2 0.8 0.6 0.9 0.1 0.  0.6 0.2 0.5 0.6 0.1 0.7 0.5 0.6 0.1 0.4 0.3 0.4\n",
      "  0.7 0.6 0.2 0.3 0.8 0.2 0.5 0.1 0.2 0.3]\n",
      " [0.4 0.1 1.  0.8 0.9 0.4 1.  0.6 0.6 0.3 0.4 0.3 0.9 0.9 0.4 0.6 0.6 0.9\n",
      "  0.7 0.1 0.2 0.  0.8 0.  0.2 0.5 0.9 0.3 0.7 0.9 0.1 0.4 0.8 1.  0.6 0.6\n",
      "  0.6 0.  0.7 0.  0.9 0.5 0.1 0.  1.  0.1 0.9 0.2 0.2 0.6 1.  0.6 0.1 0.9\n",
      "  0.9 0.4 0.6 0.  0.2 0.3 0.2 0.6 0.1 0.5 1.  0.3 0.7 0.5 0.6 0.1 0.4 0.\n",
      "  0.5 0.4 0.6 0.1 0.1 0.4 0.1 0.7 0.7 0.9 0.9 0.9 0.1 0.6 0.  0.7 0.9 0.6\n",
      "  0.1 0.4 0.5 0.2 0.3 0.6 0.5 0.6 0.1 0.8]\n",
      " [0.3 0.8 0.8 0.9 0.4 0.4 0.7 0.8 0.1 0.7 0.4 0.6 0.7 0.5 0.  0.6 0.6 0.6\n",
      "  0.4 0.8 0.3 0.  0.5 0.7 0.3 0.4 0.3 0.6 0.  0.5 0.2 0.3 0.5 0.9 0.8 0.3\n",
      "  0.6 0.1 0.8 0.4 0.8 0.2 0.1 0.4 0.9 0.8 0.7 0.6 0.8 0.2 0.  1.  0.2 0.4\n",
      "  0.1 0.2 0.6 0.3 0.2 0.4 0.6 0.7 0.9 0.1 0.3 0.8 0.8 0.5 0.  0.7 0.7 0.1\n",
      "  0.8 0.1 0.7 0.1 0.3 0.2 0.9 0.1 0.5 0.1 0.7 0.1 0.7 0.9 0.1 0.4 0.6 0.1\n",
      "  0.7 0.6 0.8 0.2 1.  0.6 0.4 1.  0.7 0.3]\n",
      " [0.3 0.4 0.2 0.7 1.  0.5 0.2 0.1 0.7 0.6 0.3 0.6 0.7 0.8 0.6 1.  0.6 0.2\n",
      "  0.1 0.1 0.4 0.3 0.5 0.8 0.9 0.3 0.3 0.7 0.8 0.1 0.5 0.9 1.  0.7 0.5 0.5\n",
      "  0.1 1.  0.4 0.8 0.8 0.8 0.7 0.6 1.  0.1 0.7 0.4 0.1 0.6 0.5 0.9 0.9 0.2\n",
      "  0.1 0.9 0.2 0.  0.2 0.7 0.5 0.  0.9 1.  0.4 0.1 0.2 0.9 0.5 0.7 0.6 0.7\n",
      "  0.4 0.8 0.8 0.9 0.2 0.6 0.8 0.7 0.2 0.3 0.2 0.7 0.8 0.9 0.2 0.4 0.  0.9\n",
      "  0.3 0.1 1.  0.4 0.  0.9 0.4 0.9 0.5 0.4]\n",
      " [0.  0.3 0.2 0.9 0.3 0.1 0.7 0.2 0.5 0.7 0.9 0.5 0.1 0.6 0.2 0.7 1.  0.6\n",
      "  0.4 0.1 0.9 0.7 0.2 0.7 0.3 0.5 0.9 0.5 0.6 0.1 0.9 0.7 0.4 0.6 0.4 0.8\n",
      "  0.7 0.2 0.7 0.5 0.5 1.  0.8 0.9 0.9 0.2 0.8 0.2 0.4 0.  0.  0.2 0.9 0.9\n",
      "  0.9 0.8 0.  0.8 0.4 0.4 0.6 0.9 0.4 0.  0.6 1.  0.8 0.6 0.5 0.9 0.9 0.1\n",
      "  0.3 0.8 0.7 0.4 0.4 0.4 1.  0.1 0.9 0.7 0.4 0.9 0.7 0.4 0.7 0.9 0.5 0.4\n",
      "  0.3 0.5 0.3 0.2 0.8 0.2 0.8 0.9 0.8 0.1]\n",
      " [0.5 0.6 0.6 0.5 1.  0.2 0.9 0.6 0.3 0.6 0.7 0.4 0.2 1.  0.3 0.5 0.3 0.4\n",
      "  0.5 0.7 0.6 1.  0.9 0.  0.4 1.  0.1 0.3 0.  0.2 0.3 0.9 0.7 0.1 0.9 0.5\n",
      "  0.3 0.8 0.  0.5 0.5 0.1 0.7 0.4 0.5 0.3 0.1 0.3 0.1 0.3 0.  0.2 0.3 0.9\n",
      "  0.7 0.7 0.1 0.6 0.2 0.5 0.3 0.8 0.3 0.7 0.3 0.7 0.6 0.5 1.  0.8 0.2 0.2\n",
      "  0.5 0.9 0.1 0.9 0.3 0.9 0.2 0.2 0.3 0.7 0.  0.5 0.5 0.2 0.4 0.6 0.2 0.5\n",
      "  0.8 0.9 0.1 1.  0.9 1.  0.3 0.1 0.9 1. ]\n",
      " [0.6 0.6 0.2 0.9 0.6 0.5 0.1 0.9 0.9 0.4 0.1 0.  0.5 0.2 0.9 0.5 0.7 1.\n",
      "  0.3 0.3 0.7 0.1 0.7 0.7 0.7 0.3 0.9 0.8 0.9 0.6 0.5 0.2 0.5 0.8 0.3 0.3\n",
      "  0.9 0.4 0.8 0.8 0.5 0.2 0.2 0.8 0.  0.4 0.5 0.5 0.5 0.3 0.8 0.5 0.2 0.7\n",
      "  0.7 0.2 0.  0.1 0.5 0.3 0.3 0.7 0.2 0.5 0.3 1.  0.4 0.3 0.9 0.8 0.5 0.3\n",
      "  0.6 0.1 1.  0.9 0.6 0.6 0.9 0.3 0.9 0.8 0.2 0.4 0.7 0.9 0.2 0.6 0.3 0.\n",
      "  0.3 0.8 0.3 0.7 0.1 0.8 0.6 0.4 0.1 0.4]\n",
      " [0.9 0.4 1.  0.9 0.8 0.4 0.4 0.6 0.6 0.8 0.8 0.1 0.2 0.5 0.6 0.  0.6 0.1\n",
      "  0.1 0.1 0.1 0.8 0.9 0.7 0.3 0.2 0.5 0.  0.8 0.  0.1 0.6 0.3 0.  1.  0.2\n",
      "  0.  0.8 0.6 0.9 0.  0.6 0.9 0.7 0.6 0.4 0.9 0.5 0.2 0.9 0.3 0.1 0.8 0.3\n",
      "  0.2 0.2 0.9 0.6 1.  0.3 0.9 0.7 1.  0.2 0.7 1.  0.3 1.  0.8 0.7 0.  0.4\n",
      "  0.3 0.2 0.3 0.9 0.6 0.9 0.8 0.2 0.8 0.5 0.5 0.9 0.8 0.8 0.3 0.3 1.  0.4\n",
      "  1.  0.1 0.4 0.7 0.2 1.  0.9 0.8 0.4 0.9]\n",
      " [0.1 0.4 0.3 0.3 0.  0.1 0.3 0.3 0.4 0.6 0.3 0.1 0.6 1.  0.8 0.1 0.4 0.1\n",
      "  0.6 0.1 0.6 0.2 0.5 0.7 0.7 0.1 0.6 0.7 0.3 0.6 0.4 0.6 0.2 0.9 0.  0.9\n",
      "  0.8 0.2 0.4 0.9 0.9 0.8 0.7 0.8 0.  0.4 0.6 0.8 0.7 0.6 0.6 0.5 0.2 0.6\n",
      "  0.8 0.2 0.4 0.7 0.3 0.8 0.5 0.4 0.5 0.6 0.5 0.5 0.9 0.2 0.6 0.4 0.6 0.6\n",
      "  0.1 0.3 0.7 0.2 0.7 0.2 0.9 0.3 0.5 0.2 0.6 0.1 0.8 0.7 0.6 1.  0.6 0.4\n",
      "  0.3 0.3 0.7 0.3 0.7 0.5 0.4 0.2 0.8 0.9]]\n"
     ]
    }
   ],
   "source": [
    "x = np.random.uniform(size=[10,100])\n",
    "np.set_printoptions(precision=1, suppress=True)\n",
    "print(x)"
   ]
  },
  {
   "cell_type": "markdown",
   "metadata": {},
   "source": [
    "## Base-n representations"
   ]
  },
  {
   "cell_type": "markdown",
   "metadata": {},
   "source": [
    "Q9. Convert 12 into a binary number in string format."
   ]
  },
  {
   "cell_type": "code",
   "execution_count": 53,
   "metadata": {},
   "outputs": [
    {
     "name": "stdout",
     "output_type": "stream",
     "text": [
      "1100\n"
     ]
    }
   ],
   "source": [
    "out1 = np.binary_repr(12)\n",
    "out2 = np.base_repr(12, base=2)\n",
    "assert out1 == out2\n",
    "print(out1)"
   ]
  },
  {
   "cell_type": "markdown",
   "metadata": {},
   "source": [
    "Q10. Convert 12 into a hexadecimal number in string format."
   ]
  },
  {
   "cell_type": "code",
   "execution_count": 54,
   "metadata": {},
   "outputs": [
    {
     "data": {
      "text/plain": [
       "'44C'"
      ]
     },
     "execution_count": 54,
     "metadata": {},
     "output_type": "execute_result"
    }
   ],
   "source": [
    "np.base_repr(1100, base=16)"
   ]
  },
  {
   "cell_type": "code",
   "execution_count": null,
   "metadata": {},
   "outputs": [],
   "source": []
  }
 ],
 "metadata": {
  "anaconda-cloud": {},
  "kernelspec": {
   "display_name": "Python 3 (ipykernel)",
   "language": "python",
   "name": "python3"
  },
  "language_info": {
   "codemirror_mode": {
    "name": "ipython",
    "version": 3
   },
   "file_extension": ".py",
   "mimetype": "text/x-python",
   "name": "python",
   "nbconvert_exporter": "python",
   "pygments_lexer": "ipython3",
   "version": "3.9.13"
  }
 },
 "nbformat": 4,
 "nbformat_minor": 1
}
